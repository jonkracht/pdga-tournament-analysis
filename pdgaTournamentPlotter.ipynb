{
 "cells": [
  {
   "cell_type": "code",
   "execution_count": 1,
   "metadata": {},
   "outputs": [],
   "source": [
    "import os\n",
    "import json\n",
    "import numpy as np\n",
    "import matplotlib.pyplot as plt\n",
    "import pandas as pd\n",
    "\n",
    "import pdgaTournamentPlotterFunctions as plotfuncts"
   ]
  },
  {
   "cell_type": "markdown",
   "metadata": {},
   "source": [
    "# Load Data and Make Pandas Dataframe\n",
    "\n",
    "Load scraped data that was saved to a `.json` file into a Pandas DataFrame.  Unideal features of the dataset:\n",
    "*\n",
    "\n",
    "Missing values:\n",
    "* No PDGA # or rating\n",
    "* Did not finish round and assigned '999'\n"
   ]
  },
  {
   "cell_type": "code",
   "execution_count": 22,
   "metadata": {},
   "outputs": [
    {
     "name": "stdout",
     "output_type": "stream",
     "text": [
      "Available data sets (located in './tournament-data/'):\n",
      "pdgaEvent31742.json\n",
      "pdgaEvent40638.json\n",
      "pdgaEvent30718.json\n"
     ]
    }
   ],
   "source": [
    "dataPath = './tournament-data'\n",
    "\n",
    "print(f'Available data sets (located in \\'{dataPath}/\\'):')\n",
    "for d in os.listdir(dataPath):\n",
    "    print(d)"
   ]
  },
  {
   "cell_type": "code",
   "execution_count": 3,
   "metadata": {},
   "outputs": [],
   "source": [
    "# Select which dataset is to be examined\n",
    "#eventID = 30718 # Delaware 2017\n",
    "#eventID = 31742 # Paws and Claws 2017\n",
    "eventID = 40638 # FISH Bowl 2021\n",
    "\n",
    "eventURL = 'https://www.pdga.com/tour/event/' + str(eventID)\n",
    "\n",
    "# Load data\n",
    "eventInfo, eventData = plotfuncts.loadData(dataPath + '/pdgaEvent' + str(eventID) + '.json')\n",
    "df = plotfuncts.makeDataFrame(eventData)"
   ]
  },
  {
   "cell_type": "markdown",
   "metadata": {},
   "source": [
    "# Formatting Boilerplate"
   ]
  },
  {
   "cell_type": "code",
   "execution_count": 4,
   "metadata": {},
   "outputs": [],
   "source": [
    "# Plot size standard\n",
    "stdFigSize = [12, 8]\n",
    "\n",
    "# Create a style guide for an arbitary number of lines:\n",
    "markers = ['o','x','v','^','.']\n",
    "colors = ['k','b','r','g','m']\n",
    "\n",
    "legendList = ['Round ' + str(i+1) for i in range(eventInfo['nRounds'])]"
   ]
  },
  {
   "cell_type": "markdown",
   "metadata": {},
   "source": [
    "# Exploratory Data Analysis\n"
   ]
  },
  {
   "cell_type": "markdown",
   "metadata": {},
   "source": [
    "EVENT-URL:  Install jupyter extension"
   ]
  },
  {
   "cell_type": "code",
   "execution_count": 14,
   "metadata": {},
   "outputs": [
    {
     "name": "stdout",
     "output_type": "stream",
     "text": [
      "Name:                Sellersville FISH Bowl\n",
      "Date:                20-Jul-2019\n",
      "Location:            Sellersville, Pennsylvania, United States\n",
      "TD:                  Dustin Leatherman\n",
      "nRounds:             2\n"
     ]
    },
    {
     "data": {
      "text/html": [
       "<div>\n",
       "<style scoped>\n",
       "    .dataframe tbody tr th:only-of-type {\n",
       "        vertical-align: middle;\n",
       "    }\n",
       "\n",
       "    .dataframe tbody tr th {\n",
       "        vertical-align: top;\n",
       "    }\n",
       "\n",
       "    .dataframe thead th {\n",
       "        text-align: right;\n",
       "    }\n",
       "</style>\n",
       "<table border=\"1\" class=\"dataframe\">\n",
       "  <thead>\n",
       "    <tr style=\"text-align: right;\">\n",
       "      <th></th>\n",
       "      <th>Name</th>\n",
       "      <th>PDGA#</th>\n",
       "      <th>Player Rating</th>\n",
       "      <th>Propagator</th>\n",
       "      <th>Score 1</th>\n",
       "      <th>Score 2</th>\n",
       "      <th>Rating 1</th>\n",
       "      <th>Rating 2</th>\n",
       "    </tr>\n",
       "  </thead>\n",
       "  <tbody>\n",
       "    <tr>\n",
       "      <th>73</th>\n",
       "      <td>Lovell Bivins</td>\n",
       "      <td>104095.0</td>\n",
       "      <td>862.0</td>\n",
       "      <td>True</td>\n",
       "      <td>72</td>\n",
       "      <td>77</td>\n",
       "      <td>854.0</td>\n",
       "      <td>868.0</td>\n",
       "    </tr>\n",
       "    <tr>\n",
       "      <th>74</th>\n",
       "      <td>Kyle Watts</td>\n",
       "      <td>118247.0</td>\n",
       "      <td>840.0</td>\n",
       "      <td>True</td>\n",
       "      <td>69</td>\n",
       "      <td>81</td>\n",
       "      <td>884.0</td>\n",
       "      <td>834.0</td>\n",
       "    </tr>\n",
       "    <tr>\n",
       "      <th>75</th>\n",
       "      <td>Michael Berg</td>\n",
       "      <td>91988.0</td>\n",
       "      <td>873.0</td>\n",
       "      <td>True</td>\n",
       "      <td>68</td>\n",
       "      <td>84</td>\n",
       "      <td>893.0</td>\n",
       "      <td>809.0</td>\n",
       "    </tr>\n",
       "    <tr>\n",
       "      <th>76</th>\n",
       "      <td>Bob Zaffarano</td>\n",
       "      <td>NaN</td>\n",
       "      <td>NaN</td>\n",
       "      <td>True</td>\n",
       "      <td>70</td>\n",
       "      <td>82</td>\n",
       "      <td>871.0</td>\n",
       "      <td>824.0</td>\n",
       "    </tr>\n",
       "    <tr>\n",
       "      <th>77</th>\n",
       "      <td>Joshua Smith</td>\n",
       "      <td>94195.0</td>\n",
       "      <td>837.0</td>\n",
       "      <td>True</td>\n",
       "      <td>76</td>\n",
       "      <td>78</td>\n",
       "      <td>816.0</td>\n",
       "      <td>859.0</td>\n",
       "    </tr>\n",
       "    <tr>\n",
       "      <th>78</th>\n",
       "      <td>James Gutridge</td>\n",
       "      <td>105899.0</td>\n",
       "      <td>825.0</td>\n",
       "      <td>True</td>\n",
       "      <td>77</td>\n",
       "      <td>80</td>\n",
       "      <td>806.0</td>\n",
       "      <td>843.0</td>\n",
       "    </tr>\n",
       "    <tr>\n",
       "      <th>79</th>\n",
       "      <td>Brian Bochantin</td>\n",
       "      <td>48144.0</td>\n",
       "      <td>844.0</td>\n",
       "      <td>True</td>\n",
       "      <td>77</td>\n",
       "      <td>81</td>\n",
       "      <td>806.0</td>\n",
       "      <td>834.0</td>\n",
       "    </tr>\n",
       "    <tr>\n",
       "      <th>80</th>\n",
       "      <td>Andrew Zart</td>\n",
       "      <td>116630.0</td>\n",
       "      <td>885.0</td>\n",
       "      <td>True</td>\n",
       "      <td>79</td>\n",
       "      <td>81</td>\n",
       "      <td>787.0</td>\n",
       "      <td>834.0</td>\n",
       "    </tr>\n",
       "    <tr>\n",
       "      <th>81</th>\n",
       "      <td>Charlie Gutridge</td>\n",
       "      <td>105898.0</td>\n",
       "      <td>831.0</td>\n",
       "      <td>True</td>\n",
       "      <td>73</td>\n",
       "      <td>89</td>\n",
       "      <td>845.0</td>\n",
       "      <td>768.0</td>\n",
       "    </tr>\n",
       "    <tr>\n",
       "      <th>82</th>\n",
       "      <td>Michael Souders</td>\n",
       "      <td>59456.0</td>\n",
       "      <td>889.0</td>\n",
       "      <td>True</td>\n",
       "      <td>84</td>\n",
       "      <td>79</td>\n",
       "      <td>738.0</td>\n",
       "      <td>851.0</td>\n",
       "    </tr>\n",
       "    <tr>\n",
       "      <th>83</th>\n",
       "      <td>Michael Cacciatore</td>\n",
       "      <td>82790.0</td>\n",
       "      <td>797.0</td>\n",
       "      <td>True</td>\n",
       "      <td>79</td>\n",
       "      <td>85</td>\n",
       "      <td>787.0</td>\n",
       "      <td>801.0</td>\n",
       "    </tr>\n",
       "    <tr>\n",
       "      <th>84</th>\n",
       "      <td>Robert Brown Jr</td>\n",
       "      <td>72778.0</td>\n",
       "      <td>832.0</td>\n",
       "      <td>True</td>\n",
       "      <td>78</td>\n",
       "      <td>87</td>\n",
       "      <td>796.0</td>\n",
       "      <td>784.0</td>\n",
       "    </tr>\n",
       "    <tr>\n",
       "      <th>85</th>\n",
       "      <td>Seth Moyer</td>\n",
       "      <td>102720.0</td>\n",
       "      <td>789.0</td>\n",
       "      <td>True</td>\n",
       "      <td>79</td>\n",
       "      <td>87</td>\n",
       "      <td>787.0</td>\n",
       "      <td>784.0</td>\n",
       "    </tr>\n",
       "    <tr>\n",
       "      <th>86</th>\n",
       "      <td>Cory Rowley</td>\n",
       "      <td>97008.0</td>\n",
       "      <td>803.0</td>\n",
       "      <td>True</td>\n",
       "      <td>76</td>\n",
       "      <td>999</td>\n",
       "      <td>816.0</td>\n",
       "      <td>NaN</td>\n",
       "    </tr>\n",
       "    <tr>\n",
       "      <th>87</th>\n",
       "      <td>John Hall</td>\n",
       "      <td>72449.0</td>\n",
       "      <td>876.0</td>\n",
       "      <td>True</td>\n",
       "      <td>72</td>\n",
       "      <td>999</td>\n",
       "      <td>854.0</td>\n",
       "      <td>NaN</td>\n",
       "    </tr>\n",
       "  </tbody>\n",
       "</table>\n",
       "</div>"
      ],
      "text/plain": [
       "                  Name     PDGA#  Player Rating  Propagator  Score 1  Score 2  \\\n",
       "73       Lovell Bivins  104095.0          862.0        True       72       77   \n",
       "74          Kyle Watts  118247.0          840.0        True       69       81   \n",
       "75        Michael Berg   91988.0          873.0        True       68       84   \n",
       "76       Bob Zaffarano       NaN            NaN        True       70       82   \n",
       "77        Joshua Smith   94195.0          837.0        True       76       78   \n",
       "78      James Gutridge  105899.0          825.0        True       77       80   \n",
       "79     Brian Bochantin   48144.0          844.0        True       77       81   \n",
       "80         Andrew Zart  116630.0          885.0        True       79       81   \n",
       "81    Charlie Gutridge  105898.0          831.0        True       73       89   \n",
       "82     Michael Souders   59456.0          889.0        True       84       79   \n",
       "83  Michael Cacciatore   82790.0          797.0        True       79       85   \n",
       "84     Robert Brown Jr   72778.0          832.0        True       78       87   \n",
       "85          Seth Moyer  102720.0          789.0        True       79       87   \n",
       "86         Cory Rowley   97008.0          803.0        True       76      999   \n",
       "87           John Hall   72449.0          876.0        True       72      999   \n",
       "\n",
       "    Rating 1  Rating 2  \n",
       "73     854.0     868.0  \n",
       "74     884.0     834.0  \n",
       "75     893.0     809.0  \n",
       "76     871.0     824.0  \n",
       "77     816.0     859.0  \n",
       "78     806.0     843.0  \n",
       "79     806.0     834.0  \n",
       "80     787.0     834.0  \n",
       "81     845.0     768.0  \n",
       "82     738.0     851.0  \n",
       "83     787.0     801.0  \n",
       "84     796.0     784.0  \n",
       "85     787.0     784.0  \n",
       "86     816.0       NaN  \n",
       "87     854.0       NaN  "
      ]
     },
     "execution_count": 14,
     "metadata": {},
     "output_type": "execute_result"
    }
   ],
   "source": [
    "# Display tournament info\n",
    "for key, val in eventInfo.items():\n",
    "    print(f\"{key+':':<20} {val}\")\n",
    "\n",
    "# Show some representative portions of the data\n",
    "df.head(15)\n",
    "df.tail(15)"
   ]
  },
  {
   "cell_type": "code",
   "execution_count": 13,
   "metadata": {},
   "outputs": [
    {
     "name": "stdout",
     "output_type": "stream",
     "text": [
      "51 93\n"
     ]
    },
    {
     "data": {
      "image/png": "[encoded data removed]",
      "text/plain": [
       "<Figure size 864x576 with 2 Axes>"
      ]
     },
     "metadata": {
      "needs_background": "light"
     },
     "output_type": "display_data"
    }
   ],
   "source": [
    "# Histogram of round scores (excluding '999' values)\n",
    "fig, ax = plt.subplots(1, eventInfo['nRounds'], figsize = [12, 8])\n",
    "\n",
    "\n",
    "# Compute min/max of all rounds for determining plot limits\n",
    "minScore, maxScore = np.inf, 0\n",
    "\n",
    "for n in range(eventInfo['nRounds']):\n",
    "    colName = 'Score ' + str(n+1)\n",
    "    vals = df.loc[df[colName] != 999][colName]\n",
    "    maxScore = max(max(vals), maxScore)\n",
    "    minScore = min(min(vals), minScore)\n",
    "    \n",
    "print(minScore, maxScore)\n",
    "bins = np.arange(minScore, maxScore, 1)\n",
    "\n",
    "for n in range(eventInfo['nRounds']):\n",
    "    colName = 'Score ' + str(n+1)\n",
    "    ax[n].hist(df.loc[df[colName] != 999][colName], bins=bins)\n",
    "    ax[n].set_title('Round ' + str(n+1))\n",
    "    ax[n].set_xlim(minScore - 5, maxScore + 5)\n",
    "\n",
    "fig.suptitle(eventInfo['Name'] + '  (' + eventInfo['Date'] + ')')\n",
    "\n",
    "plt.show()"
   ]
  },
  {
   "cell_type": "code",
   "execution_count": 11,
   "metadata": {},
   "outputs": [
    {
     "data": {
      "image/png": "[encoded data removed]",
      "text/plain": [
       "<Figure size 864x576 with 1 Axes>"
      ]
     },
     "metadata": {
      "needs_background": "light"
     },
     "output_type": "display_data"
    }
   ],
   "source": [
    "# Plot of round score vs round rating\n",
    "fig, ax = plt.subplots(1, 1, figsize = stdFigSize)\n",
    "\n",
    "for n in range(eventInfo['nRounds']):\n",
    "    ax.scatter(df['Score ' + str(n+1)], df['Rating ' + str(n+1)], marker=markers[n], color=colors[n])\n",
    " \n",
    "ax.set_xlabel('Score [strokes]')\n",
    "ax.set_ylabel('Round rating')\n",
    "ax.legend(legendList)\n",
    "plt.grid()\n",
    "plt.show()\n",
    "    "
   ]
  },
  {
   "cell_type": "markdown",
   "metadata": {},
   "source": [
    "If data from each round lies approximately colinearly in the above plot, indicates that same layout and rating scaling was used.  If round data lie on different lines, this is not true."
   ]
  },
  {
   "cell_type": "markdown",
   "metadata": {},
   "source": [
    "# Same score/different rating?!"
   ]
  },
  {
   "cell_type": "code",
   "execution_count": null,
   "metadata": {},
   "outputs": [],
   "source": []
  },
  {
   "cell_type": "code",
   "execution_count": null,
   "metadata": {},
   "outputs": [],
   "source": [
    "df['Score 1'].value_counts()"
   ]
  },
  {
   "cell_type": "code",
   "execution_count": null,
   "metadata": {},
   "outputs": [],
   "source": [
    "df.loc[df['Score 2'] != 999]"
   ]
  },
  {
   "cell_type": "markdown",
   "metadata": {},
   "source": [
    "# Issues:\n",
    "* Is \"IsPropagator\" variable being scraped correctly?"
   ]
  },
  {
   "cell_type": "code",
   "execution_count": null,
   "metadata": {},
   "outputs": [],
   "source": []
  }
 ],
 "metadata": {
  "kernelspec": {
   "display_name": "Python 3",
   "language": "python",
   "name": "python3"
  },
  "language_info": {
   "codemirror_mode": {
    "name": "ipython",
    "version": 3
   },
   "file_extension": ".py",
   "mimetype": "text/x-python",
   "name": "python",
   "nbconvert_exporter": "python",
   "pygments_lexer": "ipython3",
   "version": "3.8.10"
  }
 },
 "nbformat": 4,
 "nbformat_minor": 4
}
